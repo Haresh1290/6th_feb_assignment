{
 "cells": [
  {
   "cell_type": "code",
   "execution_count": 2,
   "id": "b3ec5b67-1aa6-4316-860e-9ef7cba91e93",
   "metadata": {},
   "outputs": [
    {
     "name": "stdout",
     "output_type": "stream",
     "text": [
      "List [1, 2, 3, 4, [44, 55, 66, True], False, (34, 56, 78, 89, 34), {1, 2, 3}, {1: 34, 'key2': [55, 67, 78, 89], 4: (45, 22, 61, 34)}, [56, 'data science'], 'Machine Learning']\n",
      "Flat List [1, 2, 3, 4, 44, 55, 66, True, False, (34, 56, 78, 89, 34), {1, 2, 3}, {1: 34, 'key2': [55, 67, 78, 89], 4: (45, 22, 61, 34)}, 56, 'data science', 'Machine Learning']\n"
     ]
    }
   ],
   "source": [
    "#Problem_1\n",
    "\n",
    "def flat(lis):\n",
    "\tflatList = []\n",
    "\t\n",
    "\tfor element in lis:\n",
    "\t\tif type(element) is list:\n",
    "\t\t\t\n",
    "\t\t\tfor item in element:\n",
    "\t\t\t\tflatList.append(item)\n",
    "\t\telse:\n",
    "\t\t\tflatList.append(element)\n",
    "\treturn flatList\n",
    "\n",
    "\n",
    "list1 = [1,2,3,4, [44,55,66, True], False, (34,56,78,89,34), {1,2,3,3,2,1}, {1:34, \"key2\": [55, 67, 78, 89], 4: (45,\n",
    "22, 61, 34)}, [56, 'data science'], 'Machine Learning']\n",
    "print('List', list1)\n",
    "print('Flat List', flat(list1))\n",
    "\n"
   ]
  },
  {
   "cell_type": "code",
   "execution_count": 4,
   "id": "9434407b-563a-437f-a407-a91fc8227ca4",
   "metadata": {},
   "outputs": [
    {
     "name": "stdout",
     "output_type": "stream",
     "text": [
      ".tsitneixS$ztzD$z$emoxey$ot$tnzw$Iaca\n"
     ]
    }
   ],
   "source": [
    "# Problem_2\n",
    "# Create an input field\n",
    "encrypt = \"I want to become a Data Scientist.\"\n",
    "\n",
    "\n",
    "dict = {\"a\": \"z\", \"b\": \"y\",\n",
    "\t\t\"c\": \"x\", \" \":\"$\"}\n",
    "\n",
    "\n",
    "num = encrypt[::-1]\n",
    "\n",
    "\n",
    "for i in dict:\n",
    "\tnum = num.replace(i, dict[i])\n",
    "\n",
    "\n",
    "print(f\"{num}aca\")\n"
   ]
  },
  {
   "cell_type": "code",
   "execution_count": null,
   "id": "06b777aa-2b77-45ca-baf8-7d39253787db",
   "metadata": {},
   "outputs": [],
   "source": []
  }
 ],
 "metadata": {
  "kernelspec": {
   "display_name": "Python 3 (ipykernel)",
   "language": "python",
   "name": "python3"
  },
  "language_info": {
   "codemirror_mode": {
    "name": "ipython",
    "version": 3
   },
   "file_extension": ".py",
   "mimetype": "text/x-python",
   "name": "python",
   "nbconvert_exporter": "python",
   "pygments_lexer": "ipython3",
   "version": "3.10.8"
  }
 },
 "nbformat": 4,
 "nbformat_minor": 5
}
